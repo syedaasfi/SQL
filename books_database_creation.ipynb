{
    "metadata": {
        "kernelspec": {
            "name": "SQL",
            "display_name": "SQL",
            "language": "sql"
        },
        "language_info": {
            "name": "sql",
            "version": ""
        }
    },
    "nbformat_minor": 2,
    "nbformat": 4,
    "cells": [
        {
            "cell_type": "code",
            "source": [
                "CREATE DATABASE books_db;"
            ],
            "metadata": {
                "azdata_cell_guid": "3727732c-70ce-4e83-a871-a405c3f5623d",
                "language": "sql"
            },
            "outputs": [
                {
                    "output_type": "display_data",
                    "data": {
                        "text/html": "Commands completed successfully."
                    },
                    "metadata": {}
                },
                {
                    "output_type": "display_data",
                    "data": {
                        "text/html": "Total execution time: 00:00:00.774"
                    },
                    "metadata": {}
                }
            ],
            "execution_count": 1
        },
        {
            "cell_type": "code",
            "source": [
                "USE books_db;"
            ],
            "metadata": {
                "language": "sql",
                "azdata_cell_guid": "4c321c0a-b123-4052-8554-dc3eee2afd7d"
            },
            "outputs": [
                {
                    "output_type": "display_data",
                    "data": {
                        "text/html": "Commands completed successfully."
                    },
                    "metadata": {}
                },
                {
                    "output_type": "display_data",
                    "data": {
                        "text/html": "Total execution time: 00:00:00.013"
                    },
                    "metadata": {}
                }
            ],
            "execution_count": 2
        },
        {
            "cell_type": "code",
            "source": [
                "CREATE TABLE Authors (\r\n",
                "    author_id VARCHAR(10) PRIMARY KEY ,\r\n",
                "    name VARCHAR(255),\r\n",
                "    bio TEXT,\r\n",
                ");"
            ],
            "metadata": {
                "language": "sql",
                "azdata_cell_guid": "27e0b2e8-67c0-4a28-b88c-c869eac81b50",
                "tags": []
            },
            "outputs": [
                {
                    "output_type": "display_data",
                    "data": {
                        "text/html": "Commands completed successfully."
                    },
                    "metadata": {}
                },
                {
                    "output_type": "display_data",
                    "data": {
                        "text/html": "Total execution time: 00:00:00.071"
                    },
                    "metadata": {}
                }
            ],
            "execution_count": 3
        },
        {
            "cell_type": "code",
            "source": [
                "CREATE TABLE Books (\r\n",
                "    book_id VARCHAR(50) PRIMARY KEY,\r\n",
                "    title VARCHAR(255),\r\n",
                "    details TEXT,\r\n",
                "    author_id VARCHAR(10) FOREIGN KEY (author_id) REFERENCES authors(author_id)\r\n",
                ");"
            ],
            "metadata": {
                "language": "sql",
                "azdata_cell_guid": "600acb1d-da4f-4295-b413-f4ceb8c1b57e",
                "tags": []
            },
            "outputs": [
                {
                    "output_type": "display_data",
                    "data": {
                        "text/html": "Commands completed successfully."
                    },
                    "metadata": {}
                },
                {
                    "output_type": "display_data",
                    "data": {
                        "text/html": "Total execution time: 00:00:00.075"
                    },
                    "metadata": {}
                }
            ],
            "execution_count": 4
        },
        {
            "cell_type": "code",
            "source": [
                "INSERT into authors(author_id,name,bio) \r\n",
                "\r\n",
                "VALUES\r\n",
                "    ('amish','Amish','Wrote the Scion of ikshvaku'),\r\n",
                "    ('chetant','Chetan Bhagat','Wrote many fictional stories'),\r\n",
                "    ('jeffrey','Jeffrey Archer','Wrote 2 books present in database'),\r\n",
                "    ('jk','JK Rowlings','Wrote 7 parts of Harry Potter'),\r\n",
                "    ('john','John Grisham','Wrote 1 book'),\r\n",
                "    ('ramdhari','Ramdhari Singh Dinkar','Wrote 2 books recorded in database'),\r\n",
                "    ('vivek','Vivek Dutta Mishra','Wrote 2 books');"
            ],
            "metadata": {
                "language": "sql",
                "azdata_cell_guid": "64626148-c2e5-4e00-9998-72ba1bec1cae",
                "tags": []
            },
            "outputs": [
                {
                    "output_type": "display_data",
                    "data": {
                        "text/html": "(7 rows affected)"
                    },
                    "metadata": {}
                },
                {
                    "output_type": "display_data",
                    "data": {
                        "text/html": "Total execution time: 00:00:00.078"
                    },
                    "metadata": {}
                }
            ],
            "execution_count": 6
        },
        {
            "cell_type": "code",
            "source": [
                "SELECT * from authors;"
            ],
            "metadata": {
                "language": "sql",
                "azdata_cell_guid": "b277ec20-4d7c-4ac7-9e55-4f909d40c3c1"
            },
            "outputs": [
                {
                    "output_type": "display_data",
                    "data": {
                        "text/html": "(7 rows affected)"
                    },
                    "metadata": {}
                },
                {
                    "output_type": "display_data",
                    "data": {
                        "text/html": "Total execution time: 00:00:00.006"
                    },
                    "metadata": {}
                },
                {
                    "output_type": "execute_result",
                    "metadata": {},
                    "execution_count": 9,
                    "data": {
                        "application/vnd.dataresource+json": {
                            "schema": {
                                "fields": [
                                    {
                                        "name": "author_id"
                                    },
                                    {
                                        "name": "name"
                                    },
                                    {
                                        "name": "bio"
                                    }
                                ]
                            },
                            "data": [
                                {
                                    "author_id": "amish",
                                    "name": "Amish",
                                    "bio": "Wrote the Scion of ikshvaku"
                                },
                                {
                                    "author_id": "chetant",
                                    "name": "Chetan Bhagat",
                                    "bio": "Wrote many fictional stories"
                                },
                                {
                                    "author_id": "jeffrey",
                                    "name": "Jeffrey Archer",
                                    "bio": "Wrote 2 books present in database"
                                },
                                {
                                    "author_id": "jk",
                                    "name": "JK Rowlings",
                                    "bio": "Wrote 7 parts of Harry Potter"
                                },
                                {
                                    "author_id": "john",
                                    "name": "John Grisham",
                                    "bio": "Wrote 1 book"
                                },
                                {
                                    "author_id": "ramdhari",
                                    "name": "Ramdhari Singh Dinkar",
                                    "bio": "Wrote 2 books recorded in database"
                                },
                                {
                                    "author_id": "vivek",
                                    "name": "Vivek Dutta Mishra",
                                    "bio": "Wrote 1 books"
                                }
                            ]
                        },
                        "text/html": [
                            "<table>",
                            "<tr><th>author_id</th><th>name</th><th>bio</th></tr>",
                            "<tr><td>amish</td><td>Amish</td><td>Wrote the Scion of ikshvaku</td></tr>",
                            "<tr><td>chetant</td><td>Chetan Bhagat</td><td>Wrote many fictional stories</td></tr>",
                            "<tr><td>jeffrey</td><td>Jeffrey Archer</td><td>Wrote 2 books present in database</td></tr>",
                            "<tr><td>jk</td><td>JK Rowlings</td><td>Wrote 7 parts of Harry Potter</td></tr>",
                            "<tr><td>john</td><td>John Grisham</td><td>Wrote 1 book</td></tr>",
                            "<tr><td>ramdhari</td><td>Ramdhari Singh Dinkar</td><td>Wrote 2 books recorded in database</td></tr>",
                            "<tr><td>vivek</td><td>Vivek Dutta Mishra</td><td>Wrote 1 books</td></tr>",
                            "</table>"
                        ]
                    }
                }
            ],
            "execution_count": 9
        },
        {
            "cell_type": "code",
            "source": [
                "INSERT  \r\n",
                "\r\n",
                "    INTO  \r\n",
                "\r\n",
                "        books(book_id,title,details,author_id)\r\n",
                "\r\n",
                "    VALUES \r\n",
                "\r\n",
                "        ('kane-and-abel','Kane and Abel','A book by jeffrey archer','jeffrey'),\r\n",
                "         \r\n",
                "        ('rashmirathi','Rashmirathi','A book by Ramdhari sing dinkar','ramdhari'), \r\n",
                "\r\n",
                "        ('sons-of-fortune','Sons of Fortune','A book by jeffrey archer','jeffrey'), \r\n",
                "\r\n",
                "        ('manas','Manas','A book by Vivek dutta mishra','vivek'), \r\n",
                "\r\n",
                "        ('summons','Summons','A book by John Grisham','john'), \r\n",
                "\r\n",
                "        ('five-point-someone','Five Point SomeOne','A book by Ramdhari sing dinkar','ramdhari'), \r\n",
                "\r\n",
                "        ('scion-of-ikshavaku','The Scion of Ikshavaku','A book by Amish','amish'), \r\n",
                "\r\n",
                "        ('the-accursed-god','The Accursed God','A book by Vivek dutta mishra','vivek'); \r\n",
                ""
            ],
            "metadata": {
                "language": "sql",
                "azdata_cell_guid": "9097db21-cfeb-41ec-8f1b-816a1a6a3f51"
            },
            "outputs": [
                {
                    "output_type": "display_data",
                    "data": {
                        "text/html": "(8 rows affected)"
                    },
                    "metadata": {}
                },
                {
                    "output_type": "display_data",
                    "data": {
                        "text/html": "Total execution time: 00:00:00.095"
                    },
                    "metadata": {}
                }
            ],
            "execution_count": 10
        },
        {
            "cell_type": "code",
            "source": [
                "select * from books;"
            ],
            "metadata": {
                "language": "sql",
                "azdata_cell_guid": "5d39794d-e488-4a47-a833-56cc172199d9"
            },
            "outputs": [
                {
                    "output_type": "display_data",
                    "data": {
                        "text/html": "(8 rows affected)"
                    },
                    "metadata": {}
                },
                {
                    "output_type": "display_data",
                    "data": {
                        "text/html": "Total execution time: 00:00:00.075"
                    },
                    "metadata": {}
                },
                {
                    "output_type": "execute_result",
                    "metadata": {},
                    "execution_count": 12,
                    "data": {
                        "application/vnd.dataresource+json": {
                            "schema": {
                                "fields": [
                                    {
                                        "name": "book_id"
                                    },
                                    {
                                        "name": "title"
                                    },
                                    {
                                        "name": "details"
                                    },
                                    {
                                        "name": "author_id"
                                    }
                                ]
                            },
                            "data": [
                                {
                                    "book_id": "five-point-someone",
                                    "title": "Five Point SomeOne",
                                    "details": "A book by Ramdhari sing dinkar",
                                    "author_id": "ramdhari"
                                },
                                {
                                    "book_id": "kane-and-abel",
                                    "title": "Kane and Abel",
                                    "details": "A book by jeffrey archer",
                                    "author_id": "jeffrey"
                                },
                                {
                                    "book_id": "manas",
                                    "title": "Manas",
                                    "details": "A book by Vivek dutta mishra",
                                    "author_id": "vivek"
                                },
                                {
                                    "book_id": "rashmirathi",
                                    "title": "Rashmirathi",
                                    "details": "A book by Ramdhari sing dinkar",
                                    "author_id": "ramdhari"
                                },
                                {
                                    "book_id": "scion-of-ikshavaku",
                                    "title": "The Scion of Ikshavaku",
                                    "details": "A book by Amish",
                                    "author_id": "amish"
                                },
                                {
                                    "book_id": "sons-of-fortune",
                                    "title": "Sons of Fortune",
                                    "details": "A book by jeffrey archer",
                                    "author_id": "jeffrey"
                                },
                                {
                                    "book_id": "summons",
                                    "title": "Summons",
                                    "details": "A book by John Grisham",
                                    "author_id": "john"
                                },
                                {
                                    "book_id": "the-accursed-god",
                                    "title": "The Accursed God",
                                    "details": "A book by Vivek dutta mishra",
                                    "author_id": "vivek"
                                }
                            ]
                        },
                        "text/html": [
                            "<table>",
                            "<tr><th>book_id</th><th>title</th><th>details</th><th>author_id</th></tr>",
                            "<tr><td>five-point-someone</td><td>Five Point SomeOne</td><td>A book by Ramdhari sing dinkar</td><td>ramdhari</td></tr>",
                            "<tr><td>kane-and-abel</td><td>Kane and Abel</td><td>A book by jeffrey archer</td><td>jeffrey</td></tr>",
                            "<tr><td>manas</td><td>Manas</td><td>A book by Vivek dutta mishra</td><td>vivek</td></tr>",
                            "<tr><td>rashmirathi</td><td>Rashmirathi</td><td>A book by Ramdhari sing dinkar</td><td>ramdhari</td></tr>",
                            "<tr><td>scion-of-ikshavaku</td><td>The Scion of Ikshavaku</td><td>A book by Amish</td><td>amish</td></tr>",
                            "<tr><td>sons-of-fortune</td><td>Sons of Fortune</td><td>A book by jeffrey archer</td><td>jeffrey</td></tr>",
                            "<tr><td>summons</td><td>Summons</td><td>A book by John Grisham</td><td>john</td></tr>",
                            "<tr><td>the-accursed-god</td><td>The Accursed God</td><td>A book by Vivek dutta mishra</td><td>vivek</td></tr>",
                            "</table>"
                        ]
                    }
                }
            ],
            "execution_count": 12
        },
        {
            "cell_type": "code",
            "source": [
                "CREATE TABLE Users (\r\n",
                "    user_id INT PRIMARY KEY,\r\n",
                "    user_name VARCHAR(255),\r\n",
                "    password VARCHAR(255)\r\n",
                ");"
            ],
            "metadata": {
                "language": "sql",
                "azdata_cell_guid": "a9cdc712-83ee-4fd9-831b-eaca82b93d68",
                "tags": []
            },
            "outputs": [
                {
                    "output_type": "display_data",
                    "data": {
                        "text/html": "Commands completed successfully."
                    },
                    "metadata": {}
                },
                {
                    "output_type": "display_data",
                    "data": {
                        "text/html": "Total execution time: 00:00:00.089"
                    },
                    "metadata": {}
                }
            ],
            "execution_count": 11
        },
        {
            "cell_type": "code",
            "source": [
                "INSERT  \r\n",
                "\r\n",
                "    INTO  \r\n",
                "\r\n",
                "        users (user_id,user_name,password) \r\n",
                "\r\n",
                "    VALUES \r\n",
                "\r\n",
                "        \r\n",
                "        (1,'Jyothi','jyothi17'),\r\n",
                "        (2,'Steve','steve12'),\r\n",
                "        (3,'Stephan','steph123');"
            ],
            "metadata": {
                "language": "sql",
                "azdata_cell_guid": "eedf8b36-a8a2-45ab-927d-471510fcdd0c",
                "tags": []
            },
            "outputs": [
                {
                    "output_type": "display_data",
                    "data": {
                        "text/html": "(3 rows affected)"
                    },
                    "metadata": {}
                },
                {
                    "output_type": "display_data",
                    "data": {
                        "text/html": "Total execution time: 00:00:00.007"
                    },
                    "metadata": {}
                }
            ],
            "execution_count": 13
        },
        {
            "cell_type": "code",
            "source": [
                "CREATE TABLE reviews (\r\n",
                "    review_id INT ,\r\n",
                "    book_id VARCHAR(50) FOREIGN KEY (book_id) REFERENCES Books(book_id),\r\n",
                "    user_id INT FOREIGN KEY (user_id) REFERENCES Users(user_id),\r\n",
                "    rating INT,\r\n",
                "    review_text TEXT\r\n",
                ");"
            ],
            "metadata": {
                "language": "sql",
                "azdata_cell_guid": "f6505c9a-959e-4072-b887-3cc7285a7e9a"
            },
            "outputs": [
                {
                    "output_type": "display_data",
                    "data": {
                        "text/html": "Commands completed successfully."
                    },
                    "metadata": {}
                },
                {
                    "output_type": "display_data",
                    "data": {
                        "text/html": "Total execution time: 00:00:00.073"
                    },
                    "metadata": {}
                }
            ],
            "execution_count": 14
        },
        {
            "cell_type": "code",
            "source": [
                "INSERT INTO  \r\n",
                "    REVIEWS(review_id, book_id,user_id, rating,review_text) \r\n",
                "VALUES \r\n",
                "    (1,'kane-and-abel',1,4,'Nice Book'),\r\n",
                "         \r\n",
                "    (2,'rashmirathi',2,3.5,'Good book'), \r\n",
                "\r\n",
                "    (3,'sons-of-fortune',3,4.5,'Thoughtfull'), \r\n",
                "\r\n",
                "    (4,'manas',1,4.7,'Good Book'), \r\n",
                "\r\n",
                "    (5,'summons',2,3.9,'Amazing'), \r\n",
                "\r\n",
                "    (6,'five-point-someone',3,3,'Great work'), \r\n",
                "\r\n",
                "    (7,'scion-of-ikshavaku',1,3.8,'Nice creativity'), \r\n",
                "\r\n",
                "    (8,'the-accursed-god',2,4.2,'Nice'); "
            ],
            "metadata": {
                "azdata_cell_guid": "99c32ade-98cd-459a-9b3c-5c4d6769d0ea",
                "language": "sql"
            },
            "outputs": [
                {
                    "output_type": "display_data",
                    "data": {
                        "text/html": "(8 rows affected)"
                    },
                    "metadata": {}
                },
                {
                    "output_type": "display_data",
                    "data": {
                        "text/html": "Total execution time: 00:00:00.094"
                    },
                    "metadata": {}
                }
            ],
            "execution_count": 15
        },
        {
            "cell_type": "code",
            "source": [
                "INSERT INTO  \r\n",
                "    REVIEWS(review_id, book_id,user_id, rating,review_text) \r\n",
                "VALUES \r\n",
                "    (1,'kane-and-abel',1,4,'Nice Book');"
            ],
            "metadata": {
                "language": "sql",
                "azdata_cell_guid": "8c1a2a14-c852-42b7-b257-a7b21e003dfb",
                "tags": []
            },
            "outputs": [
                {
                    "output_type": "display_data",
                    "data": {
                        "text/html": "(1 row affected)"
                    },
                    "metadata": {}
                },
                {
                    "output_type": "display_data",
                    "data": {
                        "text/html": "Total execution time: 00:00:00.056"
                    },
                    "metadata": {}
                }
            ],
            "execution_count": 16
        },
        {
            "cell_type": "code",
            "source": [
                "SELECT * from Authors;"
            ],
            "metadata": {
                "language": "sql",
                "azdata_cell_guid": "53e2e744-68a5-48b4-8517-7210159a5c9d"
            },
            "outputs": [
                {
                    "output_type": "display_data",
                    "data": {
                        "text/html": "(7 rows affected)"
                    },
                    "metadata": {}
                },
                {
                    "output_type": "display_data",
                    "data": {
                        "text/html": "Total execution time: 00:00:00.006"
                    },
                    "metadata": {}
                },
                {
                    "output_type": "execute_result",
                    "metadata": {},
                    "execution_count": 17,
                    "data": {
                        "application/vnd.dataresource+json": {
                            "schema": {
                                "fields": [
                                    {
                                        "name": "author_id"
                                    },
                                    {
                                        "name": "name"
                                    },
                                    {
                                        "name": "bio"
                                    }
                                ]
                            },
                            "data": [
                                {
                                    "author_id": "amish",
                                    "name": "Amish",
                                    "bio": "Wrote the Scion of ikshvaku"
                                },
                                {
                                    "author_id": "chetant",
                                    "name": "Chetan Bhagat",
                                    "bio": "Wrote many fictional stories"
                                },
                                {
                                    "author_id": "jeffrey",
                                    "name": "Jeffrey Archer",
                                    "bio": "Wrote 2 books present in database"
                                },
                                {
                                    "author_id": "jk",
                                    "name": "JK Rowlings",
                                    "bio": "Wrote 7 parts of Harry Potter"
                                },
                                {
                                    "author_id": "john",
                                    "name": "John Grisham",
                                    "bio": "Wrote 1 book"
                                },
                                {
                                    "author_id": "ramdhari",
                                    "name": "Ramdhari Singh Dinkar",
                                    "bio": "Wrote 2 books recorded in database"
                                },
                                {
                                    "author_id": "vivek",
                                    "name": "Vivek Dutta Mishra",
                                    "bio": "Wrote 1 books"
                                }
                            ]
                        },
                        "text/html": [
                            "<table>",
                            "<tr><th>author_id</th><th>name</th><th>bio</th></tr>",
                            "<tr><td>amish</td><td>Amish</td><td>Wrote the Scion of ikshvaku</td></tr>",
                            "<tr><td>chetant</td><td>Chetan Bhagat</td><td>Wrote many fictional stories</td></tr>",
                            "<tr><td>jeffrey</td><td>Jeffrey Archer</td><td>Wrote 2 books present in database</td></tr>",
                            "<tr><td>jk</td><td>JK Rowlings</td><td>Wrote 7 parts of Harry Potter</td></tr>",
                            "<tr><td>john</td><td>John Grisham</td><td>Wrote 1 book</td></tr>",
                            "<tr><td>ramdhari</td><td>Ramdhari Singh Dinkar</td><td>Wrote 2 books recorded in database</td></tr>",
                            "<tr><td>vivek</td><td>Vivek Dutta Mishra</td><td>Wrote 1 books</td></tr>",
                            "</table>"
                        ]
                    }
                }
            ],
            "execution_count": 17
        },
        {
            "cell_type": "code",
            "source": [
                "select * from Users;"
            ],
            "metadata": {
                "language": "sql",
                "azdata_cell_guid": "70836a7e-02c8-42ce-810a-b64e61a4b264"
            },
            "outputs": [
                {
                    "output_type": "display_data",
                    "data": {
                        "text/html": "(3 rows affected)"
                    },
                    "metadata": {}
                },
                {
                    "output_type": "display_data",
                    "data": {
                        "text/html": "Total execution time: 00:00:00.011"
                    },
                    "metadata": {}
                },
                {
                    "output_type": "execute_result",
                    "metadata": {},
                    "execution_count": 18,
                    "data": {
                        "application/vnd.dataresource+json": {
                            "schema": {
                                "fields": [
                                    {
                                        "name": "user_id"
                                    },
                                    {
                                        "name": "user_name"
                                    },
                                    {
                                        "name": "password"
                                    }
                                ]
                            },
                            "data": [
                                {
                                    "user_id": "1",
                                    "user_name": "Jyothi",
                                    "password": "jyothi17"
                                },
                                {
                                    "user_id": "2",
                                    "user_name": "Steve",
                                    "password": "steve12"
                                },
                                {
                                    "user_id": "3",
                                    "user_name": "Stephan",
                                    "password": "steph123"
                                }
                            ]
                        },
                        "text/html": [
                            "<table>",
                            "<tr><th>user_id</th><th>user_name</th><th>password</th></tr>",
                            "<tr><td>1</td><td>Jyothi</td><td>jyothi17</td></tr>",
                            "<tr><td>2</td><td>Steve</td><td>steve12</td></tr>",
                            "<tr><td>3</td><td>Stephan</td><td>steph123</td></tr>",
                            "</table>"
                        ]
                    }
                }
            ],
            "execution_count": 18
        },
        {
            "cell_type": "code",
            "source": [
                "SELECT * FROM Books;"
            ],
            "metadata": {
                "language": "sql",
                "azdata_cell_guid": "e749d19c-0f28-4bcd-84f0-e66c1f38562f"
            },
            "outputs": [
                {
                    "output_type": "display_data",
                    "data": {
                        "text/html": "(8 rows affected)"
                    },
                    "metadata": {}
                },
                {
                    "output_type": "display_data",
                    "data": {
                        "text/html": "Total execution time: 00:00:00.006"
                    },
                    "metadata": {}
                },
                {
                    "output_type": "execute_result",
                    "metadata": {},
                    "execution_count": 19,
                    "data": {
                        "application/vnd.dataresource+json": {
                            "schema": {
                                "fields": [
                                    {
                                        "name": "book_id"
                                    },
                                    {
                                        "name": "title"
                                    },
                                    {
                                        "name": "details"
                                    },
                                    {
                                        "name": "author_id"
                                    }
                                ]
                            },
                            "data": [
                                {
                                    "book_id": "five-point-someone",
                                    "title": "Five Point SomeOne",
                                    "details": "A book by Ramdhari sing dinkar",
                                    "author_id": "ramdhari"
                                },
                                {
                                    "book_id": "kane-and-abel",
                                    "title": "Kane and Abel",
                                    "details": "A book by jeffrey archer",
                                    "author_id": "jeffrey"
                                },
                                {
                                    "book_id": "manas",
                                    "title": "Manas",
                                    "details": "A book by Vivek dutta mishra",
                                    "author_id": "vivek"
                                },
                                {
                                    "book_id": "rashmirathi",
                                    "title": "Rashmirathi",
                                    "details": "A book by Ramdhari sing dinkar",
                                    "author_id": "ramdhari"
                                },
                                {
                                    "book_id": "scion-of-ikshavaku",
                                    "title": "The Scion of Ikshavaku",
                                    "details": "A book by Amish",
                                    "author_id": "amish"
                                },
                                {
                                    "book_id": "sons-of-fortune",
                                    "title": "Sons of Fortune",
                                    "details": "A book by jeffrey archer",
                                    "author_id": "jeffrey"
                                },
                                {
                                    "book_id": "summons",
                                    "title": "Summons",
                                    "details": "A book by John Grisham",
                                    "author_id": "john"
                                },
                                {
                                    "book_id": "the-accursed-god",
                                    "title": "The Accursed God",
                                    "details": "A book by Vivek dutta mishra",
                                    "author_id": "vivek"
                                }
                            ]
                        },
                        "text/html": [
                            "<table>",
                            "<tr><th>book_id</th><th>title</th><th>details</th><th>author_id</th></tr>",
                            "<tr><td>five-point-someone</td><td>Five Point SomeOne</td><td>A book by Ramdhari sing dinkar</td><td>ramdhari</td></tr>",
                            "<tr><td>kane-and-abel</td><td>Kane and Abel</td><td>A book by jeffrey archer</td><td>jeffrey</td></tr>",
                            "<tr><td>manas</td><td>Manas</td><td>A book by Vivek dutta mishra</td><td>vivek</td></tr>",
                            "<tr><td>rashmirathi</td><td>Rashmirathi</td><td>A book by Ramdhari sing dinkar</td><td>ramdhari</td></tr>",
                            "<tr><td>scion-of-ikshavaku</td><td>The Scion of Ikshavaku</td><td>A book by Amish</td><td>amish</td></tr>",
                            "<tr><td>sons-of-fortune</td><td>Sons of Fortune</td><td>A book by jeffrey archer</td><td>jeffrey</td></tr>",
                            "<tr><td>summons</td><td>Summons</td><td>A book by John Grisham</td><td>john</td></tr>",
                            "<tr><td>the-accursed-god</td><td>The Accursed God</td><td>A book by Vivek dutta mishra</td><td>vivek</td></tr>",
                            "</table>"
                        ]
                    }
                }
            ],
            "execution_count": 19
        },
        {
            "cell_type": "code",
            "source": [
                "SELECT * FROM Reviews;"
            ],
            "metadata": {
                "language": "sql",
                "azdata_cell_guid": "18188f8f-b964-4221-b484-c03a69f6fdf4"
            },
            "outputs": [
                {
                    "output_type": "display_data",
                    "data": {
                        "text/html": "(9 rows affected)"
                    },
                    "metadata": {}
                },
                {
                    "output_type": "display_data",
                    "data": {
                        "text/html": "Total execution time: 00:00:00.006"
                    },
                    "metadata": {}
                },
                {
                    "output_type": "execute_result",
                    "metadata": {},
                    "execution_count": 20,
                    "data": {
                        "application/vnd.dataresource+json": {
                            "schema": {
                                "fields": [
                                    {
                                        "name": "review_id"
                                    },
                                    {
                                        "name": "book_id"
                                    },
                                    {
                                        "name": "user_id"
                                    },
                                    {
                                        "name": "rating"
                                    },
                                    {
                                        "name": "review_text"
                                    }
                                ]
                            },
                            "data": [
                                {
                                    "review_id": "1",
                                    "book_id": "kane-and-abel",
                                    "user_id": "1",
                                    "rating": "4",
                                    "review_text": "Nice Book"
                                },
                                {
                                    "review_id": "2",
                                    "book_id": "rashmirathi",
                                    "user_id": "2",
                                    "rating": "3",
                                    "review_text": "Good book"
                                },
                                {
                                    "review_id": "3",
                                    "book_id": "sons-of-fortune",
                                    "user_id": "3",
                                    "rating": "4",
                                    "review_text": "Thoughtfull"
                                },
                                {
                                    "review_id": "4",
                                    "book_id": "manas",
                                    "user_id": "1",
                                    "rating": "4",
                                    "review_text": "Good Book"
                                },
                                {
                                    "review_id": "5",
                                    "book_id": "summons",
                                    "user_id": "2",
                                    "rating": "3",
                                    "review_text": "Amazing"
                                },
                                {
                                    "review_id": "6",
                                    "book_id": "five-point-someone",
                                    "user_id": "3",
                                    "rating": "3",
                                    "review_text": "Great work"
                                },
                                {
                                    "review_id": "7",
                                    "book_id": "scion-of-ikshavaku",
                                    "user_id": "1",
                                    "rating": "3",
                                    "review_text": "Nice creativity"
                                },
                                {
                                    "review_id": "8",
                                    "book_id": "the-accursed-god",
                                    "user_id": "2",
                                    "rating": "4",
                                    "review_text": "Nice"
                                },
                                {
                                    "review_id": "1",
                                    "book_id": "kane-and-abel",
                                    "user_id": "1",
                                    "rating": "4",
                                    "review_text": "Nice Book"
                                }
                            ]
                        },
                        "text/html": [
                            "<table>",
                            "<tr><th>review_id</th><th>book_id</th><th>user_id</th><th>rating</th><th>review_text</th></tr>",
                            "<tr><td>1</td><td>kane-and-abel</td><td>1</td><td>4</td><td>Nice Book</td></tr>",
                            "<tr><td>2</td><td>rashmirathi</td><td>2</td><td>3</td><td>Good book</td></tr>",
                            "<tr><td>3</td><td>sons-of-fortune</td><td>3</td><td>4</td><td>Thoughtfull</td></tr>",
                            "<tr><td>4</td><td>manas</td><td>1</td><td>4</td><td>Good Book</td></tr>",
                            "<tr><td>5</td><td>summons</td><td>2</td><td>3</td><td>Amazing</td></tr>",
                            "<tr><td>6</td><td>five-point-someone</td><td>3</td><td>3</td><td>Great work</td></tr>",
                            "<tr><td>7</td><td>scion-of-ikshavaku</td><td>1</td><td>3</td><td>Nice creativity</td></tr>",
                            "<tr><td>8</td><td>the-accursed-god</td><td>2</td><td>4</td><td>Nice</td></tr>",
                            "<tr><td>1</td><td>kane-and-abel</td><td>1</td><td>4</td><td>Nice Book</td></tr>",
                            "</table>"
                        ]
                    }
                }
            ],
            "execution_count": 20
        },
        {
            "cell_type": "code",
            "source": [
                "SELECT B.title, R.rating, R.review_text\r\n",
                "FROM Reviews R\r\n",
                "JOIN Books B ON R.book_id = B.book_id\r\n",
                "WHERE B.author_id = 'amish';"
            ],
            "metadata": {
                "language": "sql",
                "azdata_cell_guid": "8b7c9e3a-2243-4854-b1db-a894f3c41ae2"
            },
            "outputs": [
                {
                    "output_type": "display_data",
                    "data": {
                        "text/html": "(1 row affected)"
                    },
                    "metadata": {}
                },
                {
                    "output_type": "display_data",
                    "data": {
                        "text/html": "Total execution time: 00:00:00.087"
                    },
                    "metadata": {}
                },
                {
                    "output_type": "execute_result",
                    "metadata": {},
                    "execution_count": 21,
                    "data": {
                        "application/vnd.dataresource+json": {
                            "schema": {
                                "fields": [
                                    {
                                        "name": "title"
                                    },
                                    {
                                        "name": "rating"
                                    },
                                    {
                                        "name": "review_text"
                                    }
                                ]
                            },
                            "data": [
                                {
                                    "title": "The Scion of Ikshavaku",
                                    "rating": "3",
                                    "review_text": "Nice creativity"
                                }
                            ]
                        },
                        "text/html": [
                            "<table>",
                            "<tr><th>title</th><th>rating</th><th>review_text</th></tr>",
                            "<tr><td>The Scion of Ikshavaku</td><td>3</td><td>Nice creativity</td></tr>",
                            "</table>"
                        ]
                    }
                }
            ],
            "execution_count": 21
        },
        {
            "cell_type": "code",
            "source": [
                "SELECT B.title,B.details, R.rating, R.review_text \r\n",
                "                      FROM Reviews R\r\n",
                "                      JOIN Books B ON R.book_id = B.book_id\r\n",
                "                      WHERE R.review_id = 1;"
            ],
            "metadata": {
                "language": "sql",
                "azdata_cell_guid": "6fbaacb0-a312-49cf-80f0-cb62db03ad25"
            },
            "outputs": [
                {
                    "output_type": "display_data",
                    "data": {
                        "text/html": "(2 rows affected)"
                    },
                    "metadata": {}
                },
                {
                    "output_type": "display_data",
                    "data": {
                        "text/html": "Total execution time: 00:00:00.012"
                    },
                    "metadata": {}
                },
                {
                    "output_type": "execute_result",
                    "metadata": {},
                    "execution_count": 22,
                    "data": {
                        "application/vnd.dataresource+json": {
                            "schema": {
                                "fields": [
                                    {
                                        "name": "title"
                                    },
                                    {
                                        "name": "details"
                                    },
                                    {
                                        "name": "rating"
                                    },
                                    {
                                        "name": "review_text"
                                    }
                                ]
                            },
                            "data": [
                                {
                                    "title": "Kane and Abel",
                                    "details": "A book by jeffrey archer",
                                    "rating": "4",
                                    "review_text": "Nice Book"
                                },
                                {
                                    "title": "Kane and Abel",
                                    "details": "A book by jeffrey archer",
                                    "rating": "4",
                                    "review_text": "Nice Book"
                                }
                            ]
                        },
                        "text/html": [
                            "<table>",
                            "<tr><th>title</th><th>details</th><th>rating</th><th>review_text</th></tr>",
                            "<tr><td>Kane and Abel</td><td>A book by jeffrey archer</td><td>4</td><td>Nice Book</td></tr>",
                            "<tr><td>Kane and Abel</td><td>A book by jeffrey archer</td><td>4</td><td>Nice Book</td></tr>",
                            "</table>"
                        ]
                    }
                }
            ],
            "execution_count": 22
        },
        {
            "cell_type": "code",
            "source": [
                "SELECT R.user_id,B.title, R.rating, R.review_text\r\n",
                "FROM Reviews R\r\n",
                "JOIN Books B ON R.book_id = B.book_id\r\n",
                "WHERE R.user_id = 1;"
            ],
            "metadata": {
                "language": "sql",
                "azdata_cell_guid": "3bfbef0b-aa4d-4da5-bfd9-3e1ab005157a"
            },
            "outputs": [
                {
                    "output_type": "display_data",
                    "data": {
                        "text/html": "(4 rows affected)"
                    },
                    "metadata": {}
                },
                {
                    "output_type": "display_data",
                    "data": {
                        "text/html": "Total execution time: 00:00:00.081"
                    },
                    "metadata": {}
                },
                {
                    "output_type": "execute_result",
                    "metadata": {},
                    "execution_count": 23,
                    "data": {
                        "application/vnd.dataresource+json": {
                            "schema": {
                                "fields": [
                                    {
                                        "name": "user_id"
                                    },
                                    {
                                        "name": "title"
                                    },
                                    {
                                        "name": "rating"
                                    },
                                    {
                                        "name": "review_text"
                                    }
                                ]
                            },
                            "data": [
                                {
                                    "user_id": "1",
                                    "title": "Kane and Abel",
                                    "rating": "4",
                                    "review_text": "Nice Book"
                                },
                                {
                                    "user_id": "1",
                                    "title": "Manas",
                                    "rating": "4",
                                    "review_text": "Good Book"
                                },
                                {
                                    "user_id": "1",
                                    "title": "The Scion of Ikshavaku",
                                    "rating": "3",
                                    "review_text": "Nice creativity"
                                },
                                {
                                    "user_id": "1",
                                    "title": "Kane and Abel",
                                    "rating": "4",
                                    "review_text": "Nice Book"
                                }
                            ]
                        },
                        "text/html": [
                            "<table>",
                            "<tr><th>user_id</th><th>title</th><th>rating</th><th>review_text</th></tr>",
                            "<tr><td>1</td><td>Kane and Abel</td><td>4</td><td>Nice Book</td></tr>",
                            "<tr><td>1</td><td>Manas</td><td>4</td><td>Good Book</td></tr>",
                            "<tr><td>1</td><td>The Scion of Ikshavaku</td><td>3</td><td>Nice creativity</td></tr>",
                            "<tr><td>1</td><td>Kane and Abel</td><td>4</td><td>Nice Book</td></tr>",
                            "</table>"
                        ]
                    }
                }
            ],
            "execution_count": 23
        }
    ]
}