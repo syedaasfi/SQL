{
    "metadata": {
        "kernelspec": {
            "name": "SQL",
            "display_name": "SQL",
            "language": "sql"
        },
        "language_info": {
            "name": "sql",
            "version": ""
        }
    },
    "nbformat_minor": 2,
    "nbformat": 4,
    "cells": [
        {
            "cell_type": "code",
            "source": [
                "CREATE DATABASE BOOKREVIEW_DB;"
            ],
            "metadata": {
                "azdata_cell_guid": "35a641db-e68c-4479-a11f-f7da6e335cc9",
                "language": "sql"
            },
            "outputs": [
                {
                    "output_type": "display_data",
                    "data": {
                        "text/html": "Commands completed successfully."
                    },
                    "metadata": {}
                },
                {
                    "output_type": "display_data",
                    "data": {
                        "text/html": "Total execution time: 00:00:00.635"
                    },
                    "metadata": {}
                }
            ],
            "execution_count": 1
        },
        {
            "cell_type": "code",
            "source": [
                "USE BOOKREVIEW_DB;"
            ],
            "metadata": {
                "language": "sql",
                "azdata_cell_guid": "bf5e43dd-adb2-4c5e-afbf-de70a250c275"
            },
            "outputs": [
                {
                    "output_type": "display_data",
                    "data": {
                        "text/html": "Commands completed successfully."
                    },
                    "metadata": {}
                },
                {
                    "output_type": "display_data",
                    "data": {
                        "text/html": "Total execution time: 00:00:00.002"
                    },
                    "metadata": {}
                }
            ],
            "execution_count": 2
        },
        {
            "cell_type": "markdown",
            "source": [
                "> ## CREATING TABLES"
            ],
            "metadata": {
                "language": "sql",
                "azdata_cell_guid": "701a422b-351d-44f8-add1-71893d8db667"
            },
            "attachments": {}
        },
        {
            "cell_type": "code",
            "source": [
                "CREATE TABLE publishers\r\n",
                "    (\r\n",
                "        id VARCHAR(100) PRIMARY KEY, \r\n",
                "        name VARCHAR(100) NOT NULL,\r\n",
                "        address VARCHAR(100) NOT NULL,\r\n",
                "        website VARCHAR(100) NOT NULL\r\n",
                "    );"
            ],
            "metadata": {
                "azdata_cell_guid": "ae4688fd-b30a-442a-9f37-bbf10c7600f1",
                "language": "sql"
            },
            "outputs": [
                {
                    "output_type": "display_data",
                    "data": {
                        "text/html": "Commands completed successfully."
                    },
                    "metadata": {}
                },
                {
                    "output_type": "display_data",
                    "data": {
                        "text/html": "Total execution time: 00:00:00.003"
                    },
                    "metadata": {}
                }
            ],
            "execution_count": 3
        },
        {
            "cell_type": "code",
            "source": [
                "CREATE TABLE books \r\n",
                "    (\r\n",
                "        id VARCHAR(100) PRIMARY KEY,\r\n",
                "        title VARCHAR(100) NOT NULL\r\n",
                "    );"
            ],
            "metadata": {
                "language": "sql",
                "azdata_cell_guid": "d80285cb-aad6-4758-a273-3edeed2f4924",
                "tags": []
            },
            "outputs": [
                {
                    "output_type": "display_data",
                    "data": {
                        "text/html": "Commands completed successfully."
                    },
                    "metadata": {}
                },
                {
                    "output_type": "display_data",
                    "data": {
                        "text/html": "Total execution time: 00:00:00.002"
                    },
                    "metadata": {}
                }
            ],
            "execution_count": 4
        },
        {
            "cell_type": "code",
            "source": [
                "CREATE TABLE isbns\r\n",
                "    (\r\n",
                "        isbn VARCHAR(100) PRIMARY KEY,\r\n",
                "        format VARCHAR(100) NOT NULL,\r\n",
                "        price INT NOT NULL,\r\n",
                "        cover VARCHAR(100) NOT NULL,\r\n",
                "        book_id VARCHAR(100) NOT NULL FOREIGN KEY REFERENCES books(id),\r\n",
                "        publisher_id VARCHAR(100) NOT NULL FOREIGN KEY REFERENCES publishers(id)\r\n",
                "    )"
            ],
            "metadata": {
                "language": "sql",
                "azdata_cell_guid": "fd25d612-71c7-43bd-ba92-1aa0d4112508",
                "tags": []
            },
            "outputs": [
                {
                    "output_type": "display_data",
                    "data": {
                        "text/html": "Commands completed successfully."
                    },
                    "metadata": {}
                },
                {
                    "output_type": "display_data",
                    "data": {
                        "text/html": "Total execution time: 00:00:00.004"
                    },
                    "metadata": {}
                }
            ],
            "execution_count": 5
        },
        {
            "cell_type": "code",
            "source": [
                "CREATE TABLE reviewers\r\n",
                "    (\r\n",
                "        id VARCHAR(100) PRIMARY KEY,\r\n",
                "        name VARCHAR(100) NOT NULL,\r\n",
                "        email VARCHAR(100) UNIQUE NOT NULL\r\n",
                "    );"
            ],
            "metadata": {
                "language": "sql",
                "azdata_cell_guid": "8b53b9e6-5bec-410f-b172-e0f78a2e8e52"
            },
            "outputs": [
                {
                    "output_type": "display_data",
                    "data": {
                        "text/html": "Commands completed successfully."
                    },
                    "metadata": {}
                },
                {
                    "output_type": "display_data",
                    "data": {
                        "text/html": "Total execution time: 00:00:00.003"
                    },
                    "metadata": {}
                }
            ],
            "execution_count": 6
        },
        {
            "cell_type": "code",
            "source": [
                "CREATE TABLE reviews\r\n",
                "    (\r\n",
                "        book_id VARCHAR(100) NOT NULL FOREIGN KEY REFERENCES books(id),\r\n",
                "        reviewer_id VARCHAR(100) NOT NULL FOREIGN KEY REFERENCES reviewers(id),\r\n",
                "        title VARCHAR(100) NOT NULL,\r\n",
                "        details VARCHAR(100) NOT NULL,\r\n",
                "        rating INT NOT NULL,\r\n",
                "        PRIMARY KEY (book_id, reviewer_id)\r\n",
                "    );"
            ],
            "metadata": {
                "language": "sql",
                "azdata_cell_guid": "35e78f8b-7fbf-4417-aa68-055aab950fd9",
                "tags": []
            },
            "outputs": [
                {
                    "output_type": "display_data",
                    "data": {
                        "text/html": "Commands completed successfully."
                    },
                    "metadata": {}
                },
                {
                    "output_type": "display_data",
                    "data": {
                        "text/html": "Total execution time: 00:00:00.002"
                    },
                    "metadata": {}
                }
            ],
            "execution_count": 7
        },
        {
            "cell_type": "markdown",
            "source": [
                "# <span style=\"font-size: 14.6667px; font-variant-ligatures: none;\">ADD SOME REALISTIC DUMMY DATA</span>"
            ],
            "metadata": {
                "language": "",
                "azdata_cell_guid": "08ba4b2a-3496-49db-9c37-a0c49045810c"
            },
            "attachments": {}
        },
        {
            "cell_type": "markdown",
            "source": [
                "## INSERTING INTO PUBLISHERS TABLE"
            ],
            "metadata": {
                "azdata_cell_guid": "086d1153-841f-45c1-b0bc-5ac0937aac8d"
            },
            "attachments": {}
        },
        {
            "cell_type": "code",
            "source": [
                "INSERT INTO publishers\r\n",
                "    (\r\n",
                "        id,\r\n",
                "        name, \r\n",
                "        address,\r\n",
                "        website\r\n",
                "    )\r\n",
                "VALUES\r\n",
                "    (\r\n",
                "        'aksharan',\r\n",
                "        'Aksharan',\r\n",
                "        'pune',\r\n",
                "        'web1'\r\n",
                "    ),\r\n",
                "    (\r\n",
                "        'lost-epic',\r\n",
                "        'Lost Epic',\r\n",
                "        'bangalore',\r\n",
                "        'web2'\r\n",
                "    ),\r\n",
                "    (\r\n",
                "        'edu-world',\r\n",
                "        'Edu World',\r\n",
                "        'delhi',\r\n",
                "        'web3'\r\n",
                "    ),\r\n",
                "    (\r\n",
                "        'penguin',\r\n",
                "        'Penguin',\r\n",
                "        'london',\r\n",
                "        'web4'\r\n",
                "    )"
            ],
            "metadata": {
                "azdata_cell_guid": "de28b58b-e765-4a45-9989-8f57e8c735c5",
                "language": "sql"
            },
            "outputs": [
                {
                    "output_type": "display_data",
                    "data": {
                        "text/html": "(4 rows affected)"
                    },
                    "metadata": {}
                },
                {
                    "output_type": "display_data",
                    "data": {
                        "text/html": "Total execution time: 00:00:00.012"
                    },
                    "metadata": {}
                }
            ],
            "execution_count": 8
        },
        {
            "cell_type": "markdown",
            "source": [
                "## INSERTING INTO BOOKS TABLE"
            ],
            "metadata": {
                "language": "sql",
                "azdata_cell_guid": "9f90bd54-d825-44c0-ad41-ff240ffc7de9"
            },
            "attachments": {}
        },
        {
            "cell_type": "code",
            "source": [
                "INSERT into books\r\n",
                "    (\r\n",
                "        id,\r\n",
                "        title\r\n",
                "    )\r\n",
                "VALUES\r\n",
                "    (\r\n",
                "        'manas',\r\n",
                "        'Manas'\r\n",
                "    ),\r\n",
                "    (\r\n",
                "        'the-accursed-god',\r\n",
                "        'The Accursed God'\r\n",
                "    ),\r\n",
                "    (\r\n",
                "        'rashmirathi',\r\n",
                "        'Rashmirathi'\r\n",
                "    );"
            ],
            "metadata": {
                "language": "sql",
                "azdata_cell_guid": "8363e1d2-4978-4b5f-8d9b-48c4478ac5ce"
            },
            "outputs": [
                {
                    "output_type": "display_data",
                    "data": {
                        "text/html": "(3 rows affected)"
                    },
                    "metadata": {}
                },
                {
                    "output_type": "display_data",
                    "data": {
                        "text/html": "Total execution time: 00:00:00.004"
                    },
                    "metadata": {}
                }
            ],
            "execution_count": 9
        },
        {
            "cell_type": "markdown",
            "source": [
                "## INSERTING INTO ISBNS TABLE"
            ],
            "metadata": {
                "language": "",
                "azdata_cell_guid": "5717454a-ebca-4ba5-8389-131f70fb4aac"
            },
            "attachments": {}
        },
        {
            "cell_type": "code",
            "source": [
                "INSERT INTO isbns \r\n",
                "    (\r\n",
                "        isbn,\r\n",
                "        format,\r\n",
                "        price,\r\n",
                "        cover,\r\n",
                "        book_id,\r\n",
                "        publisher_id\r\n",
                "    )\r\n",
                "VALUES\r\n",
                "    (\r\n",
                "        '11234',\r\n",
                "        'paperback',\r\n",
                "        299,\r\n",
                "        'manas_pb',\r\n",
                "        'manas',\r\n",
                "        'aksharan'\r\n",
                "    ),\r\n",
                "    (\r\n",
                "        '11235',\r\n",
                "        'ebook',\r\n",
                "        49,\r\n",
                "        'manas_f',\r\n",
                "        'manas',\r\n",
                "        'lost-epic'\r\n",
                "    ),\r\n",
                "    (\r\n",
                "        '11236',\r\n",
                "        'paperback',\r\n",
                "        399,\r\n",
                "        'tag',\r\n",
                "        'the-accursed-god',\r\n",
                "        'edu-world'\r\n",
                "    ),\r\n",
                "    (\r\n",
                "        '11237',\r\n",
                "        'ebook',\r\n",
                "        119,\r\n",
                "        'tag',\r\n",
                "        'the-accursed-god',\r\n",
                "        'lost-epic'\r\n",
                "    ),\r\n",
                "    (\r\n",
                "        '11238',\r\n",
                "        'ebook',\r\n",
                "        159,\r\n",
                "        'rashimirathi',\r\n",
                "        'rashmirathi',\r\n",
                "        'penguin'\r\n",
                "    );"
            ],
            "metadata": {
                "azdata_cell_guid": "1545e82f-b6a1-44eb-9aa2-95a453078186",
                "language": "sql",
                "tags": []
            },
            "outputs": [
                {
                    "output_type": "display_data",
                    "data": {
                        "text/html": "(5 rows affected)"
                    },
                    "metadata": {}
                },
                {
                    "output_type": "display_data",
                    "data": {
                        "text/html": "Total execution time: 00:00:00.022"
                    },
                    "metadata": {}
                }
            ],
            "execution_count": 10
        },
        {
            "cell_type": "markdown",
            "source": [
                "## INSERTING INTO REVIEWERS TABLE"
            ],
            "metadata": {
                "azdata_cell_guid": "cf952db7-a54b-48dc-a8e6-caeac119e126"
            },
            "attachments": {}
        },
        {
            "cell_type": "code",
            "source": [
                "INSERT into reviewers\r\n",
                "    (\r\n",
                "        id,\r\n",
                "        name,\r\n",
                "        email\r\n",
                "    )\r\n",
                "VALUES\r\n",
                "    (\r\n",
                "        1,\r\n",
                "        'Shreya',\r\n",
                "        'shreya@ecolab.com'\r\n",
                "    ),\r\n",
                "    (\r\n",
                "        2,\r\n",
                "        'Stephan',\r\n",
                "        'stephani@google.com'\r\n",
                "    ),\r\n",
                "    (\r\n",
                "        3,\r\n",
                "        'Steve',\r\n",
                "        'steve@outlook.com'\r\n",
                "    ),\r\n",
                "    (\r\n",
                "        4,\r\n",
                "        'John',\r\n",
                "        'john@google.com'\r\n",
                "    );"
            ],
            "metadata": {
                "azdata_cell_guid": "680f8798-ab4f-4b9a-b3c3-7746fc252f11",
                "language": "sql"
            },
            "outputs": [
                {
                    "output_type": "display_data",
                    "data": {
                        "text/html": "(4 rows affected)"
                    },
                    "metadata": {}
                },
                {
                    "output_type": "display_data",
                    "data": {
                        "text/html": "Total execution time: 00:00:00.002"
                    },
                    "metadata": {}
                }
            ],
            "execution_count": 11
        },
        {
            "cell_type": "markdown",
            "source": [
                "## INSERTING INTO REVIEWS TABLE"
            ],
            "metadata": {
                "language": "sql",
                "azdata_cell_guid": "ada56497-23e1-446e-9908-56a322714684"
            },
            "attachments": {}
        },
        {
            "cell_type": "code",
            "source": [
                "INSERT into reviews\r\n",
                "    (\r\n",
                "        book_id,\r\n",
                "        reviewer_id,\r\n",
                "        title,\r\n",
                "        details,\r\n",
                "        rating\r\n",
                "    )\r\n",
                "VALUES\r\n",
                "    (\r\n",
                "        'manas',\r\n",
                "        1,\r\n",
                "        'interesting one',\r\n",
                "        'details 1',\r\n",
                "        4\r\n",
                "    ),\r\n",
                "    (\r\n",
                "        'manas',\r\n",
                "        4,\r\n",
                "        'good',\r\n",
                "        'details 2',\r\n",
                "        3\r\n",
                "    ),\r\n",
                "    (\r\n",
                "        'the-accursed-god',\r\n",
                "        1,\r\n",
                "        'must read',\r\n",
                "        'details 1',\r\n",
                "        5\r\n",
                "    ),\r\n",
                "    (\r\n",
                "        'the-accursed-god',\r\n",
                "        2,\r\n",
                "        'amazing',\r\n",
                "        'details 2',\r\n",
                "        4\r\n",
                "    ),\r\n",
                "    (\r\n",
                "        'rashmirathi',\r\n",
                "        3,\r\n",
                "        'not worth reading',\r\n",
                "        'details 1',\r\n",
                "        2\r\n",
                "    );"
            ],
            "metadata": {
                "language": "sql",
                "azdata_cell_guid": "1a12187b-f904-4a91-8776-896de266fad3"
            },
            "outputs": [
                {
                    "output_type": "display_data",
                    "data": {
                        "text/html": "(5 rows affected)"
                    },
                    "metadata": {}
                },
                {
                    "output_type": "display_data",
                    "data": {
                        "text/html": "Total execution time: 00:00:00.006"
                    },
                    "metadata": {}
                }
            ],
            "execution_count": 12
        },
        {
            "cell_type": "markdown",
            "source": [
                "# DISPLAYING ALL THE ROWS IN TABLES"
            ],
            "metadata": {
                "language": "sql",
                "azdata_cell_guid": "3d473c98-d927-4248-afc7-d6494df085a0"
            },
            "attachments": {}
        },
        {
            "cell_type": "markdown",
            "source": [
                "## DISPLAYING PUBLISHERS"
            ],
            "metadata": {
                "language": "sql",
                "azdata_cell_guid": "37039b04-5b92-4fad-8d53-a975b96fe3d4"
            },
            "attachments": {}
        },
        {
            "cell_type": "code",
            "source": [
                "SELECT * FROM publishers;"
            ],
            "metadata": {
                "language": "sql",
                "azdata_cell_guid": "d0600949-48f2-4da9-b6a7-4bf35756b856"
            },
            "outputs": [
                {
                    "output_type": "display_data",
                    "data": {
                        "text/html": "(4 rows affected)"
                    },
                    "metadata": {}
                },
                {
                    "output_type": "display_data",
                    "data": {
                        "text/html": "Total execution time: 00:00:00.039"
                    },
                    "metadata": {}
                },
                {
                    "output_type": "execute_result",
                    "metadata": {},
                    "execution_count": 13,
                    "data": {
                        "application/vnd.dataresource+json": {
                            "schema": {
                                "fields": [
                                    {
                                        "name": "id"
                                    },
                                    {
                                        "name": "name"
                                    },
                                    {
                                        "name": "address"
                                    },
                                    {
                                        "name": "website"
                                    }
                                ]
                            },
                            "data": [
                                {
                                    "id": "aksharan",
                                    "name": "Aksharan",
                                    "address": "pune",
                                    "website": "web1"
                                },
                                {
                                    "id": "edu-world",
                                    "name": "Edu World",
                                    "address": "delhi",
                                    "website": "web3"
                                },
                                {
                                    "id": "lost-epic",
                                    "name": "Lost Epic",
                                    "address": "bangalore",
                                    "website": "web2"
                                },
                                {
                                    "id": "penguin",
                                    "name": "Penguin",
                                    "address": "london",
                                    "website": "web4"
                                }
                            ]
                        },
                        "text/html": [
                            "<table>",
                            "<tr><th>id</th><th>name</th><th>address</th><th>website</th></tr>",
                            "<tr><td>aksharan</td><td>Aksharan</td><td>pune</td><td>web1</td></tr>",
                            "<tr><td>edu-world</td><td>Edu World</td><td>delhi</td><td>web3</td></tr>",
                            "<tr><td>lost-epic</td><td>Lost Epic</td><td>bangalore</td><td>web2</td></tr>",
                            "<tr><td>penguin</td><td>Penguin</td><td>london</td><td>web4</td></tr>",
                            "</table>"
                        ]
                    }
                }
            ],
            "execution_count": 13
        },
        {
            "cell_type": "markdown",
            "source": [
                "## DISPLAYING BOOKS"
            ],
            "metadata": {
                "language": "sql",
                "azdata_cell_guid": "0c5d5606-af6f-4018-bfa7-0a399e57da4d"
            },
            "attachments": {}
        },
        {
            "cell_type": "code",
            "source": [
                "SELECT * FROM books;"
            ],
            "metadata": {
                "language": "sql",
                "azdata_cell_guid": "fa34f448-3bf9-4ce9-879b-a4eea0659c94"
            },
            "outputs": [
                {
                    "output_type": "display_data",
                    "data": {
                        "text/html": "(3 rows affected)"
                    },
                    "metadata": {}
                },
                {
                    "output_type": "display_data",
                    "data": {
                        "text/html": "Total execution time: 00:00:00.005"
                    },
                    "metadata": {}
                },
                {
                    "output_type": "execute_result",
                    "metadata": {},
                    "execution_count": 14,
                    "data": {
                        "application/vnd.dataresource+json": {
                            "schema": {
                                "fields": [
                                    {
                                        "name": "id"
                                    },
                                    {
                                        "name": "title"
                                    }
                                ]
                            },
                            "data": [
                                {
                                    "id": "manas",
                                    "title": "Manas"
                                },
                                {
                                    "id": "rashmirathi",
                                    "title": "Rashmirathi"
                                },
                                {
                                    "id": "the-accursed-god",
                                    "title": "The Accursed God"
                                }
                            ]
                        },
                        "text/html": [
                            "<table>",
                            "<tr><th>id</th><th>title</th></tr>",
                            "<tr><td>manas</td><td>Manas</td></tr>",
                            "<tr><td>rashmirathi</td><td>Rashmirathi</td></tr>",
                            "<tr><td>the-accursed-god</td><td>The Accursed God</td></tr>",
                            "</table>"
                        ]
                    }
                }
            ],
            "execution_count": 14
        },
        {
            "cell_type": "markdown",
            "source": [
                "## DISPLAYING ISBNS"
            ],
            "metadata": {
                "language": "sql",
                "azdata_cell_guid": "0796a58e-fbd6-4634-a50c-c4ce5e1a6665"
            },
            "attachments": {}
        },
        {
            "cell_type": "code",
            "source": [
                "SELECT * FROM isbns;"
            ],
            "metadata": {
                "language": "sql",
                "azdata_cell_guid": "9036a52f-bdee-453e-9a77-e3eebe811704"
            },
            "outputs": [
                {
                    "output_type": "display_data",
                    "data": {
                        "text/html": "(5 rows affected)"
                    },
                    "metadata": {}
                },
                {
                    "output_type": "display_data",
                    "data": {
                        "text/html": "Total execution time: 00:00:00.005"
                    },
                    "metadata": {}
                },
                {
                    "output_type": "execute_result",
                    "metadata": {},
                    "execution_count": 15,
                    "data": {
                        "application/vnd.dataresource+json": {
                            "schema": {
                                "fields": [
                                    {
                                        "name": "isbn"
                                    },
                                    {
                                        "name": "format"
                                    },
                                    {
                                        "name": "price"
                                    },
                                    {
                                        "name": "cover"
                                    },
                                    {
                                        "name": "book_id"
                                    },
                                    {
                                        "name": "publisher_id"
                                    }
                                ]
                            },
                            "data": [
                                {
                                    "isbn": "11234",
                                    "format": "paperback",
                                    "price": "299",
                                    "cover": "manas_pb",
                                    "book_id": "manas",
                                    "publisher_id": "aksharan"
                                },
                                {
                                    "isbn": "11235",
                                    "format": "ebook",
                                    "price": "49",
                                    "cover": "manas_f",
                                    "book_id": "manas",
                                    "publisher_id": "lost-epic"
                                },
                                {
                                    "isbn": "11236",
                                    "format": "paperback",
                                    "price": "399",
                                    "cover": "tag",
                                    "book_id": "the-accursed-god",
                                    "publisher_id": "edu-world"
                                },
                                {
                                    "isbn": "11237",
                                    "format": "ebook",
                                    "price": "119",
                                    "cover": "tag",
                                    "book_id": "the-accursed-god",
                                    "publisher_id": "lost-epic"
                                },
                                {
                                    "isbn": "11238",
                                    "format": "ebook",
                                    "price": "159",
                                    "cover": "rashimirathi",
                                    "book_id": "rashmirathi",
                                    "publisher_id": "penguin"
                                }
                            ]
                        },
                        "text/html": [
                            "<table>",
                            "<tr><th>isbn</th><th>format</th><th>price</th><th>cover</th><th>book_id</th><th>publisher_id</th></tr>",
                            "<tr><td>11234</td><td>paperback</td><td>299</td><td>manas_pb</td><td>manas</td><td>aksharan</td></tr>",
                            "<tr><td>11235</td><td>ebook</td><td>49</td><td>manas_f</td><td>manas</td><td>lost-epic</td></tr>",
                            "<tr><td>11236</td><td>paperback</td><td>399</td><td>tag</td><td>the-accursed-god</td><td>edu-world</td></tr>",
                            "<tr><td>11237</td><td>ebook</td><td>119</td><td>tag</td><td>the-accursed-god</td><td>lost-epic</td></tr>",
                            "<tr><td>11238</td><td>ebook</td><td>159</td><td>rashimirathi</td><td>rashmirathi</td><td>penguin</td></tr>",
                            "</table>"
                        ]
                    }
                }
            ],
            "execution_count": 15
        },
        {
            "cell_type": "markdown",
            "source": [
                "## DISPLAYING REVIEWERS"
            ],
            "metadata": {
                "language": "sql",
                "azdata_cell_guid": "03537cf0-49f5-46d6-b1f5-a2aaf50aa6b7"
            },
            "attachments": {}
        },
        {
            "cell_type": "code",
            "source": [
                "SELECT * FROM reviewers;"
            ],
            "metadata": {
                "language": "sql",
                "azdata_cell_guid": "427d5e95-2aeb-4ced-b17e-82ae34512647"
            },
            "outputs": [
                {
                    "output_type": "display_data",
                    "data": {
                        "text/html": "(4 rows affected)"
                    },
                    "metadata": {}
                },
                {
                    "output_type": "display_data",
                    "data": {
                        "text/html": "Total execution time: 00:00:00.004"
                    },
                    "metadata": {}
                },
                {
                    "output_type": "execute_result",
                    "metadata": {},
                    "execution_count": 16,
                    "data": {
                        "application/vnd.dataresource+json": {
                            "schema": {
                                "fields": [
                                    {
                                        "name": "id"
                                    },
                                    {
                                        "name": "name"
                                    },
                                    {
                                        "name": "email"
                                    }
                                ]
                            },
                            "data": [
                                {
                                    "id": "1",
                                    "name": "Shreya",
                                    "email": "shreya@ecolab.com"
                                },
                                {
                                    "id": "2",
                                    "name": "Stephan",
                                    "email": "stephani@google.com"
                                },
                                {
                                    "id": "3",
                                    "name": "Steve",
                                    "email": "steve@outlook.com"
                                },
                                {
                                    "id": "4",
                                    "name": "John",
                                    "email": "john@google.com"
                                }
                            ]
                        },
                        "text/html": [
                            "<table>",
                            "<tr><th>id</th><th>name</th><th>email</th></tr>",
                            "<tr><td>1</td><td>Shreya</td><td>shreya@ecolab.com</td></tr>",
                            "<tr><td>2</td><td>Stephan</td><td>stephani@google.com</td></tr>",
                            "<tr><td>3</td><td>Steve</td><td>steve@outlook.com</td></tr>",
                            "<tr><td>4</td><td>John</td><td>john@google.com</td></tr>",
                            "</table>"
                        ]
                    }
                }
            ],
            "execution_count": 16
        },
        {
            "cell_type": "markdown",
            "source": [
                "## DISPLAYING REVIEWS"
            ],
            "metadata": {
                "language": "sql",
                "azdata_cell_guid": "33013b77-b480-48b7-93e7-1a982f14257a"
            },
            "attachments": {}
        },
        {
            "cell_type": "code",
            "source": [
                "SELECT * FROM reviews;"
            ],
            "metadata": {
                "language": "sql",
                "azdata_cell_guid": "22d4ef22-7238-4cc9-80a8-288cbef3bffc"
            },
            "outputs": [
                {
                    "output_type": "display_data",
                    "data": {
                        "text/html": "(5 rows affected)"
                    },
                    "metadata": {}
                },
                {
                    "output_type": "display_data",
                    "data": {
                        "text/html": "Total execution time: 00:00:00.007"
                    },
                    "metadata": {}
                },
                {
                    "output_type": "execute_result",
                    "metadata": {},
                    "execution_count": 17,
                    "data": {
                        "application/vnd.dataresource+json": {
                            "schema": {
                                "fields": [
                                    {
                                        "name": "book_id"
                                    },
                                    {
                                        "name": "reviewer_id"
                                    },
                                    {
                                        "name": "title"
                                    },
                                    {
                                        "name": "details"
                                    },
                                    {
                                        "name": "rating"
                                    }
                                ]
                            },
                            "data": [
                                {
                                    "book_id": "manas",
                                    "reviewer_id": "1",
                                    "title": "interesting one",
                                    "details": "details 1",
                                    "rating": "4"
                                },
                                {
                                    "book_id": "manas",
                                    "reviewer_id": "4",
                                    "title": "good",
                                    "details": "details 2",
                                    "rating": "3"
                                },
                                {
                                    "book_id": "rashmirathi",
                                    "reviewer_id": "3",
                                    "title": "not worth reading",
                                    "details": "details 1",
                                    "rating": "2"
                                },
                                {
                                    "book_id": "the-accursed-god",
                                    "reviewer_id": "1",
                                    "title": "must read",
                                    "details": "details 1",
                                    "rating": "5"
                                },
                                {
                                    "book_id": "the-accursed-god",
                                    "reviewer_id": "2",
                                    "title": "amazing",
                                    "details": "details 2",
                                    "rating": "4"
                                }
                            ]
                        },
                        "text/html": [
                            "<table>",
                            "<tr><th>book_id</th><th>reviewer_id</th><th>title</th><th>details</th><th>rating</th></tr>",
                            "<tr><td>manas</td><td>1</td><td>interesting one</td><td>details 1</td><td>4</td></tr>",
                            "<tr><td>manas</td><td>4</td><td>good</td><td>details 2</td><td>3</td></tr>",
                            "<tr><td>rashmirathi</td><td>3</td><td>not worth reading</td><td>details 1</td><td>2</td></tr>",
                            "<tr><td>the-accursed-god</td><td>1</td><td>must read</td><td>details 1</td><td>5</td></tr>",
                            "<tr><td>the-accursed-god</td><td>2</td><td>amazing</td><td>details 2</td><td>4</td></tr>",
                            "</table>"
                        ]
                    }
                }
            ],
            "execution_count": 17
        }
    ]
}