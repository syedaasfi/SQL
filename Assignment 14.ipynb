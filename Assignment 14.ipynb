{
    "metadata": {
        "kernelspec": {
            "name": "SQL",
            "display_name": "SQL",
            "language": "sql"
        },
        "language_info": {
            "name": "sql",
            "version": ""
        }
    },
    "nbformat_minor": 2,
    "nbformat": 4,
    "cells": [
        {
            "cell_type": "code",
            "source": [
                "CREATE DATABASE Books1_db\r\n",
                ""
            ],
            "metadata": {
                "azdata_cell_guid": "59324eee-8442-4639-a752-0c0da826d12e",
                "language": "sql"
            },
            "outputs": [
                {
                    "output_type": "display_data",
                    "data": {
                        "text/html": "Commands completed successfully."
                    },
                    "metadata": {}
                },
                {
                    "output_type": "display_data",
                    "data": {
                        "text/html": "Total execution time: 00:00:00.941"
                    },
                    "metadata": {}
                }
            ],
            "execution_count": 1
        },
        {
            "cell_type": "code",
            "source": [
                "USE Books1_db"
            ],
            "metadata": {
                "azdata_cell_guid": "075cafdb-fb79-4d79-ac86-af24bd957c50",
                "language": "sql"
            },
            "outputs": [
                {
                    "output_type": "display_data",
                    "data": {
                        "text/html": "Commands completed successfully."
                    },
                    "metadata": {}
                },
                {
                    "output_type": "display_data",
                    "data": {
                        "text/html": "Total execution time: 00:00:00.003"
                    },
                    "metadata": {}
                }
            ],
            "execution_count": 2
        },
        {
            "cell_type": "code",
            "source": [
                "CREATE TABLE Publishers\r\n",
                "    (\r\n",
                "        ID VARCHAR(100) PRIMARY KEY, \r\n",
                "        Name VARCHAR(100) NOT NULL,\r\n",
                "        Address VARCHAR(100) NOT NULL,\r\n",
                "        Website VARCHAR(100) NOT NULL\r\n",
                "    );"
            ],
            "metadata": {
                "language": "sql",
                "azdata_cell_guid": "9cc9e48d-fa30-4bc4-bbf5-239b844ce800"
            },
            "outputs": [
                {
                    "output_type": "display_data",
                    "data": {
                        "text/html": "Commands completed successfully."
                    },
                    "metadata": {}
                },
                {
                    "output_type": "display_data",
                    "data": {
                        "text/html": "Total execution time: 00:00:00.013"
                    },
                    "metadata": {}
                }
            ],
            "execution_count": 3
        },
        {
            "cell_type": "code",
            "source": [
                "CREATE TABLE books \r\n",
                "    (\r\n",
                "        ID VARCHAR(100) PRIMARY KEY,\r\n",
                "        Title VARCHAR(100) NOT NULL\r\n",
                "    );"
            ],
            "metadata": {
                "azdata_cell_guid": "3dc8755f-5955-42ba-8a8a-3aa037167289",
                "language": "sql"
            },
            "outputs": [
                {
                    "output_type": "display_data",
                    "data": {
                        "text/html": "Commands completed successfully."
                    },
                    "metadata": {}
                },
                {
                    "output_type": "display_data",
                    "data": {
                        "text/html": "Total execution time: 00:00:00.020"
                    },
                    "metadata": {}
                }
            ],
            "execution_count": 4
        },
        {
            "cell_type": "code",
            "source": [
                "CREATE TABLE ISBN\r\n",
                "    (\r\n",
                "        Isbn VARCHAR(100) PRIMARY KEY,\r\n",
                "        Format VARCHAR(100) NOT NULL,\r\n",
                "        Price INT NOT NULL,\r\n",
                "        Cover VARCHAR(100) NOT NULL,\r\n",
                "        Book_ID VARCHAR(100) NOT NULL FOREIGN KEY REFERENCES Books(id),\r\n",
                "        Publisher_id VARCHAR(100) NOT NULL FOREIGN KEY REFERENCES Publishers(id)\r\n",
                "    )"
            ],
            "metadata": {
                "azdata_cell_guid": "78524418-b1f0-4b58-94f8-0a39ab73f715",
                "language": "sql"
            },
            "outputs": [
                {
                    "output_type": "display_data",
                    "data": {
                        "text/html": "Commands completed successfully."
                    },
                    "metadata": {}
                },
                {
                    "output_type": "display_data",
                    "data": {
                        "text/html": "Total execution time: 00:00:00.013"
                    },
                    "metadata": {}
                }
            ],
            "execution_count": 5
        },
        {
            "cell_type": "code",
            "source": [
                "CREATE TABLE Reviewers\r\n",
                "    (\r\n",
                "        ID VARCHAR(100) PRIMARY KEY,\r\n",
                "        Name VARCHAR(100) NOT NULL,\r\n",
                "        Email VARCHAR(100) UNIQUE NOT NULL\r\n",
                "    );"
            ],
            "metadata": {
                "azdata_cell_guid": "87882b94-1e2c-46ed-b6ca-c28791ff2c6f",
                "language": "sql"
            },
            "outputs": [
                {
                    "output_type": "display_data",
                    "data": {
                        "text/html": "Commands completed successfully."
                    },
                    "metadata": {}
                },
                {
                    "output_type": "display_data",
                    "data": {
                        "text/html": "Total execution time: 00:00:00.006"
                    },
                    "metadata": {}
                }
            ],
            "execution_count": 6
        },
        {
            "cell_type": "code",
            "source": [
                "CREATE TABLE Reviews\r\n",
                "    (\r\n",
                "        Book_ID VARCHAR(100) NOT NULL FOREIGN KEY REFERENCES books(id),\r\n",
                "        Reviewer_id VARCHAR(100) NOT NULL FOREIGN KEY REFERENCES reviewers(id),\r\n",
                "        Title VARCHAR(100) NOT NULL,\r\n",
                "        Details VARCHAR(100) NOT NULL,\r\n",
                "        Rating INT NOT NULL,\r\n",
                "        PRIMARY KEY (book_id, reviewer_id)\r\n",
                "    );"
            ],
            "metadata": {
                "azdata_cell_guid": "55c3c88a-5e57-4185-8333-8989b1f24e3f",
                "language": "sql"
            },
            "outputs": [
                {
                    "output_type": "display_data",
                    "data": {
                        "text/html": "Commands completed successfully."
                    },
                    "metadata": {}
                },
                {
                    "output_type": "display_data",
                    "data": {
                        "text/html": "Total execution time: 00:00:00.005"
                    },
                    "metadata": {}
                }
            ],
            "execution_count": 7
        },
        {
            "cell_type": "code",
            "source": [
                "\r\n",
                "INSERT INTO publishers\r\n",
                "    (\r\n",
                "        id,\r\n",
                "        name, \r\n",
                "        address,\r\n",
                "        website\r\n",
                "    )\r\n",
                "VALUES\r\n",
                "    (\r\n",
                "        'aksharan',\r\n",
                "        'Aksharan',\r\n",
                "        'pune',\r\n",
                "        'web1'\r\n",
                "    ),\r\n",
                "    (\r\n",
                "        'lost-epic',\r\n",
                "        'Lost Epic',\r\n",
                "        'bangalore',\r\n",
                "        'web2'\r\n",
                "    ),\r\n",
                "    (\r\n",
                "        'edu-world',\r\n",
                "        'Edu World',\r\n",
                "        'delhi',\r\n",
                "        'web3'\r\n",
                "    ),\r\n",
                "    (\r\n",
                "        'penguin',\r\n",
                "        'Penguin',\r\n",
                "        'london',\r\n",
                "        'web4'\r\n",
                "    )"
            ],
            "metadata": {
                "azdata_cell_guid": "e65a47ae-94ae-435a-b241-7ef09eb540a1",
                "language": "sql"
            },
            "outputs": [
                {
                    "output_type": "display_data",
                    "data": {
                        "text/html": "(4 rows affected)"
                    },
                    "metadata": {}
                },
                {
                    "output_type": "display_data",
                    "data": {
                        "text/html": "Total execution time: 00:00:00.012"
                    },
                    "metadata": {}
                }
            ],
            "execution_count": 19
        },
        {
            "cell_type": "code",
            "source": [
                "INSERT into books\r\n",
                "    (\r\n",
                "        id,\r\n",
                "        title\r\n",
                "    )\r\n",
                "VALUES\r\n",
                "    (\r\n",
                "        'manas',\r\n",
                "        'Manas'\r\n",
                "    ),\r\n",
                "    (\r\n",
                "        'the-accursed-god',\r\n",
                "        'The Accursed God'\r\n",
                "    ),\r\n",
                "    (\r\n",
                "        'rashmirathi',\r\n",
                "        'Rashmirathi'\r\n",
                "    );"
            ],
            "metadata": {
                "azdata_cell_guid": "628be806-dc47-4ce4-b0f9-6290de5efb99",
                "language": "sql"
            },
            "outputs": [
                {
                    "output_type": "display_data",
                    "data": {
                        "text/html": "(3 rows affected)"
                    },
                    "metadata": {}
                },
                {
                    "output_type": "display_data",
                    "data": {
                        "text/html": "Total execution time: 00:00:00.012"
                    },
                    "metadata": {}
                }
            ],
            "execution_count": 20
        },
        {
            "cell_type": "code",
            "source": [
                "INSERT INTO isbn\r\n",
                "    (\r\n",
                "        isbn,\r\n",
                "        format,\r\n",
                "        price,\r\n",
                "        cover,\r\n",
                "        book_id,\r\n",
                "        publisher_id\r\n",
                "    )\r\n",
                "VALUES\r\n",
                "    (\r\n",
                "        '11234',\r\n",
                "        'paperback',\r\n",
                "        299,\r\n",
                "        'manas_pb',\r\n",
                "        'manas',\r\n",
                "        'aksharan'\r\n",
                "    ),\r\n",
                "    (\r\n",
                "        '11235',\r\n",
                "        'ebook',\r\n",
                "        49,\r\n",
                "        'manas_f',\r\n",
                "        'manas',\r\n",
                "        'lost-epic'\r\n",
                "    ),\r\n",
                "    (\r\n",
                "        '11236',\r\n",
                "        'paperback',\r\n",
                "        399,\r\n",
                "        'tag',\r\n",
                "        'the-accursed-god',\r\n",
                "        'edu-world'\r\n",
                "    ),\r\n",
                "    (\r\n",
                "        '11237',\r\n",
                "        'ebook',\r\n",
                "        119,\r\n",
                "        'tag',\r\n",
                "        'the-accursed-god',\r\n",
                "        'lost-epic'\r\n",
                "    ),\r\n",
                "    (\r\n",
                "        '11238',\r\n",
                "        'ebook',\r\n",
                "        159,\r\n",
                "        'rashimirathi',\r\n",
                "        'rashmirathi',\r\n",
                "        'penguin'\r\n",
                "    );"
            ],
            "metadata": {
                "azdata_cell_guid": "3d7278d7-7501-4572-a343-a2c6b516c0a7",
                "language": "sql"
            },
            "outputs": [
                {
                    "output_type": "display_data",
                    "data": {
                        "text/html": "(5 rows affected)"
                    },
                    "metadata": {}
                },
                {
                    "output_type": "display_data",
                    "data": {
                        "text/html": "Total execution time: 00:00:00.011"
                    },
                    "metadata": {}
                }
            ],
            "execution_count": 21
        },
        {
            "cell_type": "code",
            "source": [
                "INSERT into reviewers\r\n",
                "    (\r\n",
                "        id,\r\n",
                "        name,\r\n",
                "        email\r\n",
                "    )\r\n",
                "VALUES\r\n",
                "    (\r\n",
                "        1,\r\n",
                "        'suriya',\r\n",
                "        'suriya@ecolab.com'\r\n",
                "    ),\r\n",
                "    (\r\n",
                "        2,\r\n",
                "        'Stephan',\r\n",
                "        'stephani@google.com'\r\n",
                "    ),\r\n",
                "    (\r\n",
                "        3,\r\n",
                "        'Steve',\r\n",
                "        'steve@outlook.com'\r\n",
                "    ),\r\n",
                "    (\r\n",
                "        4,\r\n",
                "        'John',\r\n",
                "        'john@google.com'\r\n",
                "    );\r\n",
                ""
            ],
            "metadata": {
                "azdata_cell_guid": "46e9840f-fbf9-4e1a-b631-c360fb8c9d20",
                "language": "sql"
            },
            "outputs": [
                {
                    "output_type": "error",
                    "evalue": "Msg 2627, Level 14, State 1, Line 1\r\nViolation of PRIMARY KEY constraint 'PK__Reviewer__3214EC276BB0C340'. Cannot insert duplicate key in object 'dbo.Reviewers'. The duplicate key value is (1).",
                    "ename": "",
                    "traceback": []
                },
                {
                    "output_type": "display_data",
                    "data": {
                        "text/html": "The statement has been terminated."
                    },
                    "metadata": {}
                },
                {
                    "output_type": "display_data",
                    "data": {
                        "text/html": "Total execution time: 00:00:00"
                    },
                    "metadata": {}
                }
            ],
            "execution_count": 23
        },
        {
            "cell_type": "code",
            "source": [
                "\r\n",
                "INSERT into reviews\r\n",
                "    (\r\n",
                "        book_id,\r\n",
                "        reviewer_id,\r\n",
                "        title,\r\n",
                "        details,\r\n",
                "        rating\r\n",
                "    )\r\n",
                "VALUES\r\n",
                "    (\r\n",
                "        'manas',\r\n",
                "        1,\r\n",
                "        'interesting one',\r\n",
                "        'details 1',\r\n",
                "        4\r\n",
                "    ),\r\n",
                "    (\r\n",
                "        'manas',\r\n",
                "        4,\r\n",
                "        'good',\r\n",
                "        'details 2',\r\n",
                "        3\r\n",
                "    ),\r\n",
                "    (\r\n",
                "        'the-accursed-god',\r\n",
                "        1,\r\n",
                "        'must read',\r\n",
                "        'details 1',\r\n",
                "        5\r\n",
                "    ),\r\n",
                "    (\r\n",
                "        'the-accursed-god',\r\n",
                "        2,\r\n",
                "        'amazing',\r\n",
                "        'details 2',\r\n",
                "        4\r\n",
                "    ),\r\n",
                "    (\r\n",
                "        'rashmirathi',\r\n",
                "        3,\r\n",
                "        'not worth reading',\r\n",
                "        'details 1',\r\n",
                "        2\r\n",
                "    );"
            ],
            "metadata": {
                "azdata_cell_guid": "d668b1bd-cbde-4ecd-88ee-e42a8002fa39",
                "language": "sql"
            },
            "outputs": [
                {
                    "output_type": "display_data",
                    "data": {
                        "text/html": "(5 rows affected)"
                    },
                    "metadata": {}
                },
                {
                    "output_type": "display_data",
                    "data": {
                        "text/html": "Total execution time: 00:00:00.020"
                    },
                    "metadata": {}
                }
            ],
            "execution_count": 24
        },
        {
            "cell_type": "code",
            "source": [
                ""
            ],
            "metadata": {
                "azdata_cell_guid": "04e24384-2fcf-4f34-9ab9-148720f368e6",
                "language": "sql"
            },
            "outputs": [],
            "execution_count": null
        },
        {
            "cell_type": "code",
            "source": [
                "\r\n",
                "SELECT * FROM publishers;"
            ],
            "metadata": {
                "azdata_cell_guid": "9becd8f3-4c5e-4646-a5e0-3c78a53c9bb4",
                "language": "sql"
            },
            "outputs": [
                {
                    "output_type": "display_data",
                    "data": {
                        "text/html": "(8 rows affected)"
                    },
                    "metadata": {}
                },
                {
                    "output_type": "display_data",
                    "data": {
                        "text/html": "Total execution time: 00:00:00.050"
                    },
                    "metadata": {}
                },
                {
                    "output_type": "execute_result",
                    "metadata": {},
                    "execution_count": 25,
                    "data": {
                        "application/vnd.dataresource+json": {
                            "schema": {
                                "fields": [
                                    {
                                        "name": "ID"
                                    },
                                    {
                                        "name": "Name"
                                    },
                                    {
                                        "name": "Address"
                                    },
                                    {
                                        "name": "Website"
                                    }
                                ]
                            },
                            "data": [
                                {
                                    "ID": "aksharan",
                                    "Name": "Aksharan",
                                    "Address": "pune",
                                    "Website": "web1"
                                },
                                {
                                    "ID": "Dune",
                                    "Name": "Herbet",
                                    "Address": "US",
                                    "Website": "www.Dune.com"
                                },
                                {
                                    "ID": "edu-world",
                                    "Name": "Edu World",
                                    "Address": "delhi",
                                    "Website": "web3"
                                },
                                {
                                    "ID": "Ikigai",
                                    "Name": "Sam",
                                    "Address": "US",
                                    "Website": "www.ikirgai.com"
                                },
                                {
                                    "ID": "lost-epic",
                                    "Name": "Lost Epic",
                                    "Address": "bangalore",
                                    "Website": "web2"
                                },
                                {
                                    "ID": "penguin",
                                    "Name": "Penguin",
                                    "Address": "london",
                                    "Website": "web4"
                                },
                                {
                                    "ID": "The Monk ",
                                    "Name": "Robin",
                                    "Address": "India",
                                    "Website": "www.Monk.com"
                                },
                                {
                                    "ID": "The Pshycology",
                                    "Name": "Morgan",
                                    "Address": "UK",
                                    "Website": "www.money.com"
                                }
                            ]
                        },
                        "text/html": [
                            "<table>",
                            "<tr><th>ID</th><th>Name</th><th>Address</th><th>Website</th></tr>",
                            "<tr><td>aksharan</td><td>Aksharan</td><td>pune</td><td>web1</td></tr>",
                            "<tr><td>Dune</td><td>Herbet</td><td>US</td><td>www.Dune.com</td></tr>",
                            "<tr><td>edu-world</td><td>Edu World</td><td>delhi</td><td>web3</td></tr>",
                            "<tr><td>Ikigai</td><td>Sam</td><td>US</td><td>www.ikirgai.com</td></tr>",
                            "<tr><td>lost-epic</td><td>Lost Epic</td><td>bangalore</td><td>web2</td></tr>",
                            "<tr><td>penguin</td><td>Penguin</td><td>london</td><td>web4</td></tr>",
                            "<tr><td>The Monk </td><td>Robin</td><td>India</td><td>www.Monk.com</td></tr>",
                            "<tr><td>The Pshycology</td><td>Morgan</td><td>UK</td><td>www.money.com</td></tr>",
                            "</table>"
                        ]
                    }
                }
            ],
            "execution_count": 25
        },
        {
            "cell_type": "code",
            "source": [
                "SELECT * FROM books;"
            ],
            "metadata": {
                "language": "sql",
                "azdata_cell_guid": "f210d259-7267-4d50-8c63-f77dd111623e"
            },
            "outputs": [
                {
                    "output_type": "display_data",
                    "data": {
                        "text/html": "(6 rows affected)"
                    },
                    "metadata": {}
                },
                {
                    "output_type": "display_data",
                    "data": {
                        "text/html": "Total execution time: 00:00:00.009"
                    },
                    "metadata": {}
                },
                {
                    "output_type": "execute_result",
                    "metadata": {},
                    "execution_count": 26,
                    "data": {
                        "application/vnd.dataresource+json": {
                            "schema": {
                                "fields": [
                                    {
                                        "name": "ID"
                                    },
                                    {
                                        "name": "Title"
                                    }
                                ]
                            },
                            "data": [
                                {
                                    "ID": "Ikiagi",
                                    "Title": "Ikigai"
                                },
                                {
                                    "ID": "manas",
                                    "Title": "Manas"
                                },
                                {
                                    "ID": "Money",
                                    "Title": "Money"
                                },
                                {
                                    "ID": "rashmirathi",
                                    "Title": "Rashmirathi"
                                },
                                {
                                    "ID": "The Monk",
                                    "Title": "The Monk"
                                },
                                {
                                    "ID": "the-accursed-god",
                                    "Title": "The Accursed God"
                                }
                            ]
                        },
                        "text/html": [
                            "<table>",
                            "<tr><th>ID</th><th>Title</th></tr>",
                            "<tr><td>Ikiagi</td><td>Ikigai</td></tr>",
                            "<tr><td>manas</td><td>Manas</td></tr>",
                            "<tr><td>Money</td><td>Money</td></tr>",
                            "<tr><td>rashmirathi</td><td>Rashmirathi</td></tr>",
                            "<tr><td>The Monk</td><td>The Monk</td></tr>",
                            "<tr><td>the-accursed-god</td><td>The Accursed God</td></tr>",
                            "</table>"
                        ]
                    }
                }
            ],
            "execution_count": 26
        },
        {
            "cell_type": "code",
            "source": [
                "\r\n",
                "SELECT * FROM isbn;\r\n",
                ""
            ],
            "metadata": {
                "language": "sql",
                "azdata_cell_guid": "765e1593-4c36-40c8-9704-011b1914426c"
            },
            "outputs": [
                {
                    "output_type": "display_data",
                    "data": {
                        "text/html": "(5 rows affected)"
                    },
                    "metadata": {}
                },
                {
                    "output_type": "display_data",
                    "data": {
                        "text/html": "Total execution time: 00:00:00.012"
                    },
                    "metadata": {}
                },
                {
                    "output_type": "execute_result",
                    "metadata": {},
                    "execution_count": 28,
                    "data": {
                        "application/vnd.dataresource+json": {
                            "schema": {
                                "fields": [
                                    {
                                        "name": "Isbn"
                                    },
                                    {
                                        "name": "Format"
                                    },
                                    {
                                        "name": "Price"
                                    },
                                    {
                                        "name": "Cover"
                                    },
                                    {
                                        "name": "Book_ID"
                                    },
                                    {
                                        "name": "Publisher_id"
                                    }
                                ]
                            },
                            "data": [
                                {
                                    "Isbn": "11234",
                                    "Format": "paperback",
                                    "Price": "299",
                                    "Cover": "manas_pb",
                                    "Book_ID": "manas",
                                    "Publisher_id": "aksharan"
                                },
                                {
                                    "Isbn": "11235",
                                    "Format": "ebook",
                                    "Price": "49",
                                    "Cover": "manas_f",
                                    "Book_ID": "manas",
                                    "Publisher_id": "lost-epic"
                                },
                                {
                                    "Isbn": "11236",
                                    "Format": "paperback",
                                    "Price": "399",
                                    "Cover": "tag",
                                    "Book_ID": "the-accursed-god",
                                    "Publisher_id": "edu-world"
                                },
                                {
                                    "Isbn": "11237",
                                    "Format": "ebook",
                                    "Price": "119",
                                    "Cover": "tag",
                                    "Book_ID": "the-accursed-god",
                                    "Publisher_id": "lost-epic"
                                },
                                {
                                    "Isbn": "11238",
                                    "Format": "ebook",
                                    "Price": "159",
                                    "Cover": "rashimirathi",
                                    "Book_ID": "rashmirathi",
                                    "Publisher_id": "penguin"
                                }
                            ]
                        },
                        "text/html": [
                            "<table>",
                            "<tr><th>Isbn</th><th>Format</th><th>Price</th><th>Cover</th><th>Book_ID</th><th>Publisher_id</th></tr>",
                            "<tr><td>11234</td><td>paperback</td><td>299</td><td>manas_pb</td><td>manas</td><td>aksharan</td></tr>",
                            "<tr><td>11235</td><td>ebook</td><td>49</td><td>manas_f</td><td>manas</td><td>lost-epic</td></tr>",
                            "<tr><td>11236</td><td>paperback</td><td>399</td><td>tag</td><td>the-accursed-god</td><td>edu-world</td></tr>",
                            "<tr><td>11237</td><td>ebook</td><td>119</td><td>tag</td><td>the-accursed-god</td><td>lost-epic</td></tr>",
                            "<tr><td>11238</td><td>ebook</td><td>159</td><td>rashimirathi</td><td>rashmirathi</td><td>penguin</td></tr>",
                            "</table>"
                        ]
                    }
                }
            ],
            "execution_count": 28
        }
    ]
}